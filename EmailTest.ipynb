{
  "nbformat": 4,
  "nbformat_minor": 0,
  "metadata": {
    "colab": {
      "name": "EmailTest.ipynb",
      "provenance": []
    },
    "kernelspec": {
      "name": "python3",
      "display_name": "Python 3"
    },
    "accelerator": "GPU"
  },
  "cells": [
    {
      "cell_type": "code",
      "metadata": {
        "id": "_4KyCimEdWMq"
      },
      "source": [
        "import pandas as pd\n",
        "import numpy as np\n",
        "import random\n",
        "import string\n",
        "import smtplib\n",
        "\n"
      ],
      "execution_count": 53,
      "outputs": []
    },
    {
      "cell_type": "code",
      "metadata": {
        "id": "JAjl0N9tddbB"
      },
      "source": [
        "# code for generating csv file with 1 million emails. Please note that I can also add message to this CSV file if required.\n",
        "\n",
        "domains = [ \"hotmail.com\", \"gmail.com\", \"aol.com\", \"mail.com\" , \"edu.com.de\", \"yahoo.com\",\"outlook.com\"]\n",
        "letters = string.ascii_lowercase[:18] \n",
        "number_of_emails = 1000000\n",
        "\n",
        "def getDomains(domains):\n",
        "    return random.choice(domains)\n",
        "\n",
        "def getUserName(letters):\n",
        "    return ''.join(random.choice(letters) for i in range(7))\n",
        "\n",
        "def getEmails(number):\n",
        "    return [getUserName(letters) + '@' + getDomains(domains) for i in range(number)]\n",
        "\n",
        "emails = np.asarray(getEmails(number_of_emails))\n",
        "pd.DataFrame(emails).to_csv(\"file.csv\")\n"
      ],
      "execution_count": 54,
      "outputs": []
    },
    {
      "cell_type": "code",
      "metadata": {
        "colab": {
          "base_uri": "https://localhost:8080/"
        },
        "id": "uYDyepaElvVc",
        "outputId": "41030c70-cb57-4fd4-fde4-12356c48b630"
      },
      "source": [
        "# code for fetching emails from csv file.\n",
        "\n",
        "data = pd.read_csv('file.csv', names=[\"Emails\"])\n",
        "data = data.iloc[1:]\n",
        "email_array = data['Emails'].to_numpy()\n",
        "email_array.shape\n",
        "\n"
      ],
      "execution_count": 55,
      "outputs": [
        {
          "output_type": "execute_result",
          "data": {
            "text/plain": [
              "(1000000,)"
            ]
          },
          "metadata": {
            "tags": []
          },
          "execution_count": 55
        }
      ]
    },
    {
      "cell_type": "code",
      "metadata": {
        "id": "mWOTUjsZr5yM"
      },
      "source": [
        "# code for sending emails.\n",
        "\n",
        "server = smtplib.SMTP(\"smtp.gmail.com\",587)\n",
        "server.starttls()\n",
        "# I'm giving dummy password for security reasons. You should change is to send proper emails.\n",
        "server.login(\"usmanirfan996@gmail.com\",\"xxxxx\")\n",
        "msg = \"Hello! This is the Test\"\n",
        "subject = \"Test\"\n",
        "body = \"Subject: {}\\n\\n{}\".format(subject,msg)\n",
        "for email in email_array:\n",
        "  server.sendmail(\"usmanirfan996@gmail.com\",email,body)\n",
        "server.quit()"
      ],
      "execution_count": null,
      "outputs": []
    }
  ]
}